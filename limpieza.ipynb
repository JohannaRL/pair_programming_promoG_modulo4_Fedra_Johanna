{
 "cells": [
  {
   "cell_type": "markdown",
   "metadata": {},
   "source": [
    "#### Abrir CSV"
   ]
  },
  {
   "cell_type": "code",
   "execution_count": null,
   "metadata": {},
   "outputs": [],
   "source": [
    "def leer_csv(carpeta, nombre_  try:\n",
    "\n",
    "        df = pd.read_csv(f'{carpeta}/{nombre_archivo}.csv')\n",
    "        print('El archivo se ha cargado con éxito.')\n",
    "        if drop_unnamed:\n",
    "            df = df.drop(columns=[\"Unnamed: 0\"], errors=\"ignore\")  # Ignora si la columna no existe\n",
    "        \n",
    "        return df\n",
    "    \n",
    "    except FileNotFoundError:\n",
    "        print('No se ha encontrado el archivo')\n",
    "        return Nonearchivo, drop_unnamed=True):"
   ]
  },
  {
   "cell_type": "markdown",
   "metadata": {},
   "source": [
    "EXPLORACION DEL DATAFRAME "
   ]
  },
  {
   "cell_type": "code",
   "execution_count": null,
   "metadata": {},
   "outputs": [],
   "source": [
    "def exploracion_dataframe(dataframe):\n",
    "\n",
    "    #Nos enseña los duplicados en el DF\n",
    "\n",
    "    print(f\"Tenemos {dataframe.duplicated().sum()} duplicados en el conjunto de datos.\")\n",
    "    print(\"\\n ----- \\n\")\n",
    "\n",
    "    #Nos muestra un DataFrame para los valores nulos\n",
    "\n",
    "    print(\"Los nulos que tenemos en el conjunto de datos son:\")\n",
    "    df_nulos = pd.DataFrame(dataframe.isnull().sum() / dataframe.shape[0] * 100, columns = [\"%_nulos\"])\n",
    "    display(df_nulos[df_nulos[\"%_nulos\"] > 0])\n",
    "    print(\"\\n ----- \\n\")\n",
    "\n",
    "    #Nos muestra los tipos de columnas\n",
    "\n",
    "    print(f\"Los tipos de las columnas son:\")\n",
    "    display(pd.DataFrame(dataframe.dtypes, columns = [\"tipo_dato\"]))\n",
    "    print(\"\\n ----- \\n\")\n",
    "\n",
    "    #Nos muestra los valores de las columnas categóricas\n",
    "\n",
    "    print(\"Los valores que tenemos para las COLUMNAS CATEGÓRICAS son: \")\n",
    "    dataframe_categoricas = dataframe.select_dtypes(include = \"O\")\n",
    "    for col in dataframe_categoricas.columns:\n",
    "        print(f\"La columna {col.upper()} tiene las siguientes valores únicos:\")\n",
    "        display(pd.DataFrame(dataframe[col].value_counts()).head())\n",
    "\n",
    "    #Sacamos los principales estadísticos de cada una de las categorías\n",
    "    \n",
    "    columnas_numericas = dataframe.select_dtypes(include=['int', 'float']).columns\n",
    "    columnas_categoricas = dataframe.select_dtypes(include='O').columns\n",
    "    for col in columnas_categoricas:\n",
    "        print(\"\\n ----- \\n\")\n",
    "        print(f\"Los principales estadísticos de las COLUMNAS CATEGÓRICAS para el {col.upper()} son: \")\n",
    "        display(dataframe[[col]].describe().T)\n",
    "    for col in columnas_numericas:\n",
    "        print(\"\\n ----- \\n\")\n",
    "        print(f\"Los principales estadísticos de las COLUMNAS NUMÉRICAS para el {col.upper()} son: \")\n",
    "        display(dataframe[[col]].describe().T)"
   ]
  },
  {
   "cell_type": "markdown",
   "metadata": {},
   "source": [
    "GUARDAR DATAFRAME A DOCUMENTO CSV"
   ]
  },
  {
   "cell_type": "code",
   "execution_count": null,
   "metadata": {},
   "outputs": [],
   "source": [
    "# Supongamos que df es tu DataFrame que deseas guardar como un archivo CSV\n",
    "df.to_csv('nombre_archivo.csv', index=False)"
   ]
  },
  {
   "cell_type": "markdown",
   "metadata": {},
   "source": [
    "##### Función borrar columnas"
   ]
  },
  {
   "cell_type": "code",
   "execution_count": null,
   "metadata": {},
   "outputs": [],
   "source": [
    "def borrar_columnas(dataframe, columnas):\n",
    "    \"\"\"\n",
    "    Borra las columnas especificadas de un DataFrame.\n",
    "    \n",
    "    Args:\n",
    "    dataframe (pandas.DataFrame): El DataFrame del cual se eliminarán las columnas.\n",
    "    columnas (list): Lista de nombres de columnas a borrar.\n",
    "    \n",
    "    Returns:\n",
    "    pandas.DataFrame: El DataFrame con las columnas eliminadas.\n",
    "    \"\"\"\n",
    "    return dataframe.drop(columns=columnas, inplace=True)"
   ]
  },
  {
   "cell_type": "markdown",
   "metadata": {},
   "source": [
    "##### Función nombre columnas"
   ]
  },
  {
   "cell_type": "code",
   "execution_count": null,
   "metadata": {},
   "outputs": [],
   "source": [
    "\n",
    "\n",
    "def cambiar_nombres_columnas(dataframe, cambios):\n",
    "    \"\"\"\n",
    "    Función para cambiar los nombres de columnas en un DataFrame de Pandas.\n",
    "    \n",
    "    Parámetros:\n",
    "        - dataframe: DataFrame de Pandas.\n",
    "        - cambios: Diccionario donde las claves son los nombres de las columnas a cambiar\n",
    "                   y los valores son los nuevos nombres.\n",
    "    \n",
    "    Retorna:\n",
    "        - DataFrame con los nombres de las columnas actualizados.\n",
    "    \"\"\"\n",
    "    dataframe = dataframe.rename(columns=cambios)\n",
    "    return dataframe"
   ]
  },
  {
   "cell_type": "code",
   "execution_count": null,
   "metadata": {},
   "outputs": [],
   "source": [
    "# Cambiar los nombres de las columnas\n",
    "cambios = {'A': 'Nueva_A', 'B': 'Nueva_B'}\n",
    "df = cambiar_nombres_columnas(df, cambios)"
   ]
  },
  {
   "cell_type": "markdown",
   "metadata": {},
   "source": [
    "#### Unir 4 DFs"
   ]
  },
  {
   "cell_type": "markdown",
   "metadata": {},
   "source": [
    "#merge?\n",
    "df_marvel = "
   ]
  },
  {
   "cell_type": "code",
   "execution_count": null,
   "metadata": {},
   "outputs": [],
   "source": [
    "# Unir los DataFrames por la columna en común\n",
    "df_marvel_final = pd.merge(df_1, df_2, on='movie_title')\n",
    "df_marvel_final = pd.merge(df_marvel_final, df_3, on='movie_title')\n",
    "df_marvel_final = pd.merge(df_marvel_final, df_4, on='movie_title')"
   ]
  },
  {
   "cell_type": "markdown",
   "metadata": {},
   "source": [
    "##### Crear DF de Europa con una columna nueva , donde encoentremos el país que más recaudó por película"
   ]
  },
  {
   "cell_type": "code",
   "execution_count": null,
   "metadata": {},
   "outputs": [],
   "source": [
    "df_europa['Pais_Max_Recaudacion'] = df_europa[['United Kingdom', 'Spain', 'France']].idxmax(axis=1).apply(lambda x: x.split('_')[-1])\n",
    "\n",
    "print(df_europa)"
   ]
  },
  {
   "cell_type": "code",
   "execution_count": null,
   "metadata": {},
   "outputs": [],
   "source": [
    "def pais_max_recaudacion(row):\n",
    "    recaudaciones = row[['United Kingdom', 'Spain', 'France']]\n",
    "    pais_max = recaudaciones.idxmax()\n",
    "    return pais_max.split('_')[-1]\n",
    "\n",
    "# Aplicar la función a cada fila y asignar el resultado a una nueva columna\n",
    "df['Pais_Max_Recaudacion'] = df.apply(pais_max_recaudacion, axis=1)\n",
    "\n",
    "print(df)"
   ]
  },
  {
   "cell_type": "code",
   "execution_count": null,
   "metadata": {},
   "outputs": [],
   "source": [
    "# Peliculas a modificar nombre : \n",
    "\n",
    " # Eternals, Shang-Chi and the Legend of the Ten Rings,Spider-Man: No Way Home \n",
    " # Black Widow  - No en las 2\n",
    "\n",
    "\n",
    "Spider-Man: Far From Home \n",
    "Spider-Man:Far From Home \n",
    "\n",
    "\n",
    "Avengers: Endgame \n",
    "Avengers:Endgame\n",
    "\n",
    "\n",
    "Captain Marvel\n",
    "Captain-Marvel\n",
    "\n",
    "\n",
    "Thor: Ragnarok\n",
    "Thor:Ragnarok\n",
    "\n",
    "Spider-Man: Homecoming\n",
    "Spider-Man:Homecoming\n",
    "\n",
    "\n",
    "The Incredible Hulk\n",
    "The incredible Hulk\n",
    "\n",
    "\n",
    "Avengers: Age of Ultron\n",
    "Avengers : Age of ultron \n",
    "\n",
    "\n",
    "Guardians of the Galaxy\n",
    "Guardians Of the Galaxy\n",
    "\n",
    "\n",
    "Captain America: The Winter Soldier\n",
    "Captain America : The Winter Soldier\n",
    "\n",
    "\n",
    "The Avengers\n",
    "Marvel's the Avengers\n",
    "\n",
    "\n",
    "Captain America: The First Avenger\n",
    "Captain America: The first Avenger\n",
    "\n"
   ]
  }
 ],
 "metadata": {
  "language_info": {
   "name": "python"
  }
 },
 "nbformat": 4,
 "nbformat_minor": 2
}
