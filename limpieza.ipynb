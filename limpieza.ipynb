{
 "cells": [
  {
   "cell_type": "markdown",
   "metadata": {},
   "source": [
    "#### Abrir CSV"
   ]
  },
  {
   "cell_type": "code",
   "execution_count": null,
   "metadata": {},
   "outputs": [],
   "source": [
    "def leer_csv(carpeta, nombre_  try:\n",
    "\n",
    "        df = pd.read_csv(f'{carpeta}/{nombre_archivo}.csv')\n",
    "        print('El archivo se ha cargado con éxito.')\n",
    "        if drop_unnamed:\n",
    "            df = df.drop(columns=[\"Unnamed: 0\"], errors=\"ignore\")  # Ignora si la columna no existe\n",
    "        \n",
    "        return df\n",
    "    \n",
    "    except FileNotFoundError:\n",
    "        print('No se ha encontrado el archivo')\n",
    "        return Nonearchivo, drop_unnamed=True):"
   ]
  },
  {
   "cell_type": "markdown",
   "metadata": {},
   "source": [
    "##### Función borrar columnas"
   ]
  },
  {
   "cell_type": "code",
   "execution_count": null,
   "metadata": {},
   "outputs": [],
   "source": [
    "def borrar_columnas(dataframe, columnas):\n",
    "    \"\"\"\n",
    "    Borra las columnas especificadas de un DataFrame.\n",
    "    \n",
    "    Args:\n",
    "    dataframe (pandas.DataFrame): El DataFrame del cual se eliminarán las columnas.\n",
    "    columnas (list): Lista de nombres de columnas a borrar.\n",
    "    \n",
    "    Returns:\n",
    "    pandas.DataFrame: El DataFrame con las columnas eliminadas.\n",
    "    \"\"\"\n",
    "    return dataframe.drop(columns=columnas, inplace=True)"
   ]
  },
  {
   "cell_type": "markdown",
   "metadata": {},
   "source": [
    "##### Función nombre columnas"
   ]
  },
  {
   "cell_type": "code",
   "execution_count": null,
   "metadata": {},
   "outputs": [],
   "source": [
    "\n",
    "\n",
    "def cambiar_nombres_columnas(dataframe, cambios):\n",
    "    \"\"\"\n",
    "    Función para cambiar los nombres de columnas en un DataFrame de Pandas.\n",
    "    \n",
    "    Parámetros:\n",
    "        - dataframe: DataFrame de Pandas.\n",
    "        - cambios: Diccionario donde las claves son los nombres de las columnas a cambiar\n",
    "                   y los valores son los nuevos nombres.\n",
    "    \n",
    "    Retorna:\n",
    "        - DataFrame con los nombres de las columnas actualizados.\n",
    "    \"\"\"\n",
    "    dataframe = dataframe.rename(columns=cambios)\n",
    "    return dataframe"
   ]
  },
  {
   "cell_type": "code",
   "execution_count": null,
   "metadata": {},
   "outputs": [],
   "source": [
    "# Cambiar los nombres de las columnas\n",
    "cambios = {'A': 'Nueva_A', 'B': 'Nueva_B'}\n",
    "df = cambiar_nombres_columnas(df, cambios)"
   ]
  },
  {
   "cell_type": "markdown",
   "metadata": {},
   "source": [
    "#### Unir 4 DFs"
   ]
  },
  {
   "cell_type": "markdown",
   "metadata": {},
   "source": [
    "#merge?\n",
    "df_marvel = "
   ]
  },
  {
   "cell_type": "markdown",
   "metadata": {},
   "source": [
    "##### Crear DF de Europa con una columna nueva , donde encoentremos el país que más recaudó por película"
   ]
  },
  {
   "cell_type": "code",
   "execution_count": null,
   "metadata": {},
   "outputs": [],
   "source": [
    "df_europa['Pais_Max_Recaudacion'] = df_europa[['United Kingdom', 'Spain', 'France']].idxmax(axis=1).apply(lambda x: x.split('_')[-1])\n",
    "\n",
    "print(df_europa)"
   ]
  },
  {
   "cell_type": "code",
   "execution_count": null,
   "metadata": {},
   "outputs": [],
   "source": [
    "def pais_max_recaudacion(row):\n",
    "    recaudaciones = row[['United Kingdom', 'Spain', 'France']]\n",
    "    pais_max = recaudaciones.idxmax()\n",
    "    return pais_max.split('_')[-1]\n",
    "\n",
    "# Aplicar la función a cada fila y asignar el resultado a una nueva columna\n",
    "df['Pais_Max_Recaudacion'] = df.apply(pais_max_recaudacion, axis=1)\n",
    "\n",
    "print(df)"
   ]
  }
 ],
 "metadata": {
  "language_info": {
   "name": "python"
  }
 },
 "nbformat": 4,
 "nbformat_minor": 2
}
